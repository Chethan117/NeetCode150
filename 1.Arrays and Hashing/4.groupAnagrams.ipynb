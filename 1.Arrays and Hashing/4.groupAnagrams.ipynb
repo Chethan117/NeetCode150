{
  "nbformat": 4,
  "nbformat_minor": 0,
  "metadata": {
    "colab": {
      "provenance": []
    },
    "kernelspec": {
      "name": "python3",
      "display_name": "Python 3"
    },
    "language_info": {
      "name": "python"
    }
  },
  "cells": [
    {
      "cell_type": "markdown",
      "source": [
        "**Group Anagrams**<br>\n",
        "Given an array of strings strs, group all anagrams together into sublists. You may return the output in any order.\n",
        "\n",
        "An anagram is a string that contains the exact same characters as another string, but the order of the characters can be different.\n",
        "\n",
        "\n",
        "Example1:\n",
        "```\n",
        "Input: strs = [\"act\",\"pots\",\"tops\",\"cat\",\"stop\",\"hat\"]\n",
        "\n",
        "Output: [[\"hat\"],[\"act\", \"cat\"],[\"stop\", \"pots\", \"tops\"]]\n",
        "```\n",
        "\n"
      ],
      "metadata": {
        "id": "WIMiW7xoeAz7"
      }
    },
    {
      "cell_type": "code",
      "source": [
        "from collections import defaultdict\n",
        "\n",
        "def group_anagrams(words):\n",
        "    # Dictionary to store groups of anagrams\n",
        "    grouped_dict = defaultdict(list)\n",
        "\n",
        "    # Iterate through each word\n",
        "    for word in words:\n",
        "        # Sort the characters of the word and use the sorted tuple as the key\n",
        "        sorted_word = tuple(sorted(word))\n",
        "        grouped_dict[sorted_word].append(word)\n",
        "\n",
        "    # Return the grouped anagrams as a list of lists\n",
        "    return list(grouped_dict.values())\n",
        "\n",
        "# Example usage\n",
        "words = [\"eat\", \"tea\", \"tan\", \"ate\", \"nat\", \"bat\"]\n",
        "result = group_anagrams(words)\n",
        "print(result)"
      ],
      "metadata": {
        "colab": {
          "base_uri": "https://localhost:8080/"
        },
        "id": "0Qwz5u9belf1",
        "outputId": "1ade43cc-755c-4100-f2b4-0b0910c52cf5"
      },
      "execution_count": null,
      "outputs": [
        {
          "output_type": "stream",
          "name": "stdout",
          "text": [
            "[['eat', 'tea', 'ate'], ['tan', 'nat'], ['bat']]\n"
          ]
        }
      ]
    },
    {
      "cell_type": "markdown",
      "source": [
        "**Time Complexity**: $( O(n \\cdot k \\log k) )$\n",
        "\n",
        "- **\\( n \\)**: Number of words in the input list.\n",
        "- **\\( k \\)**: Average length of the words.\n",
        "\n",
        "**Breakdown:**\n",
        "1. **Sorting Each Word**:\n",
        "   - Sorting a word of length \\( k \\) takes $( O(k log k))$.\n",
        "2. **Iterating Through All Words**:\n",
        "   - For each of the \\( n \\) words, sorting is performed.\n",
        "3. **Dictionary Operations**:\n",
        "   - Inserting or appending to the dictionary takes \\( O(1) \\) per word.\n",
        "\n",
        "**Total Time Complexity**: $( O(n \\cdot k \\log k) )$\n",
        "\n",
        "\n",
        "\n",
        "**Space Complexity**:  $O(n \\cdot k)$\n",
        "\n",
        "- **\\( n \\)**: Number of words in the input list.\n",
        "- **\\( k \\)**: Average length of the words.\n",
        "\n",
        "Breakdown:\n",
        "1. **Dictionary Storage**:\n",
        "   - The dictionary stores all \\( n \\) words, and each word has length \\( k \\).\n",
        "2. **Sorted Keys**:\n",
        "   - Each sorted key (tuple of characters) also requires \\( O(k) \\) space.\n",
        "\n",
        "**Total Space Complexity**: $O(n \\cdot k)$"
      ],
      "metadata": {
        "id": "8tSZUSgcmlvy"
      }
    },
    {
      "cell_type": "code",
      "source": [
        "from collections import defaultdict\n",
        "import time\n",
        "\n",
        "# Test data\n",
        "words = [\"eat\", \"tea\", \"tan\", \"ate\", \"nat\", \"bat\"] * 100000\n",
        "\n",
        "# Approach 1: Using sorted string as key\n",
        "start_time = time.time()\n",
        "res1 = defaultdict(list)\n",
        "for s in words:\n",
        "    sortedS = ''.join(sorted(s))\n",
        "    res1[sortedS].append(s)\n",
        "print(\"String key time:\", time.time() - start_time)\n",
        "\n",
        "# Approach 2: Using sorted tuple as key\n",
        "start_time = time.time()\n",
        "res2 = defaultdict(list)\n",
        "for s in words:\n",
        "    sorted_word = tuple(sorted(s))\n",
        "    res2[sorted_word].append(s)\n",
        "print(\"Tuple key time:\", time.time() - start_time)"
      ],
      "metadata": {
        "colab": {
          "base_uri": "https://localhost:8080/"
        },
        "id": "olhVMDWFj_ow",
        "outputId": "4321d599-2989-45fa-f23d-7393f853739d"
      },
      "execution_count": null,
      "outputs": [
        {
          "output_type": "stream",
          "name": "stdout",
          "text": [
            "String key time: 0.40568089485168457\n",
            "Tuple key time: 0.35384583473205566\n"
          ]
        }
      ]
    },
    {
      "cell_type": "markdown",
      "source": [
        "###"
      ],
      "metadata": {
        "id": "fz5rAkGknxyI"
      }
    },
    {
      "cell_type": "code",
      "source": [
        "from collections import defaultdict\n",
        "\n",
        "def group_anagrams_case_sensitive(strs):\n",
        "    res = defaultdict(list)  # Dictionary to store groups of anagrams\n",
        "    for s in strs:  # Iterate through each word\n",
        "        count = [0] * 52  # Frequency count for 'a' to 'z' (0-25) and 'A' to 'Z' (26-51)\n",
        "        for c in s:  # Iterate through each character in the word\n",
        "            if 'a' <= c <= 'z':  # Lowercase letters\n",
        "                count[ord(c) - ord('a')] += 1\n",
        "            elif 'A' <= c <= 'Z':  # Uppercase letters\n",
        "                count[ord(c) - ord('A') + 26] += 1\n",
        "        res[tuple(count)].append(s)  # Use frequency count as key\n",
        "    return list(res.values())  # Return grouped anagrams\n",
        "\n"
      ],
      "metadata": {
        "id": "KLKfbw_MpLbE"
      },
      "execution_count": 5,
      "outputs": []
    },
    {
      "cell_type": "code",
      "source": [
        "# Example usage\n",
        "strs = [\"eat\", \"tea\", \"EaT\", \"ate\", \"tan\", \"nat\", \"bat\", \"BAT\"]\n",
        "result = group_anagrams_case_sensitive(strs)\n",
        "print(result)"
      ],
      "metadata": {
        "colab": {
          "base_uri": "https://localhost:8080/"
        },
        "id": "ag2x3CtbpuHj",
        "outputId": "5464c109-856f-40ee-fd24-90a6c39f00eb"
      },
      "execution_count": 7,
      "outputs": [
        {
          "output_type": "stream",
          "name": "stdout",
          "text": [
            "[['eat', 'tea', 'ate'], ['EaT'], ['tan', 'nat'], ['bat'], ['BAT']]\n"
          ]
        }
      ]
    },
    {
      "cell_type": "code",
      "source": [
        "from collections import defaultdict\n",
        "\n",
        "def group_anagrams_case_insensitive(strs):\n",
        "    res = defaultdict(list)  # Dictionary to store groups of anagrams\n",
        "    for s in strs:  # Iterate through each word\n",
        "        count = [0] * 26  # Frequency count for 'a' to 'z' (0-25), ignoring case\n",
        "        for c in s.lower():  # Convert characters to lowercase for case insensitivity\n",
        "            count[ord(c) - ord('a')] += 1\n",
        "        res[tuple(count)].append(s)  # Use frequency count as key\n",
        "    return list(res.values())  # Return grouped anagrams\n",
        "\n"
      ],
      "metadata": {
        "id": "zlL_a22ep1G2"
      },
      "execution_count": 8,
      "outputs": []
    },
    {
      "cell_type": "code",
      "source": [
        "# Example usage\n",
        "strs = [\"eat\", \"tea\", \"AtE\", \"ate\", \"tan\", \"nat\", \"bat\", \"BAT\"]\n",
        "result = group_anagrams_case_insensitive(strs)\n",
        "print(result)\n"
      ],
      "metadata": {
        "colab": {
          "base_uri": "https://localhost:8080/"
        },
        "id": "V2SgEabk1oo-",
        "outputId": "4987151f-bcc0-41ac-93bb-6c48fa4bfd65"
      },
      "execution_count": 10,
      "outputs": [
        {
          "output_type": "stream",
          "name": "stdout",
          "text": [
            "[['eat', 'tea', 'AtE', 'ate'], ['tan', 'nat'], ['bat', 'BAT']]\n"
          ]
        }
      ]
    },
    {
      "cell_type": "markdown",
      "source": [
        "### **Time and Space Complexity Analysis**\n",
        "\n",
        "#### **Time Complexity**\n",
        "- Let **n** be the number of strings in `strs`, and **m** be the maximum length of any string.\n",
        "- For each string, we:\n",
        "  1. Initialize a frequency array of size 26 → **O(1)**\n",
        "  2. Iterate over the string (length **m**) to populate the frequency array → **O(m)**\n",
        "  3. Convert the frequency array to a tuple (hashable key) → **O(26) ≈ O(1)**\n",
        "  4. Store the string in a dictionary → **O(1)**\n",
        "- Since we process **n** strings, the total time complexity is:\n",
        "  $O(n.m)$\n",
        "  \n",
        "#### **Space Complexity**\n",
        "- **Dictionary Storage:**  \n",
        "  - In the worst case, every string has a unique frequency count, so we store **n** keys in the dictionary.\n",
        "  - Each key is a tuple of size **26** → **O(n × 26) = O(n)**\n",
        "  - Each value is a list of words, storing all **n** words → **O(n × m)**\n",
        "- **Frequency Array:**  \n",
        "  - Uses **O(26) ≈ O(1)** space per iteration.\n",
        "- **Overall space complexity:**\n",
        "$O(n.m)$\n",
        ""
      ],
      "metadata": {
        "id": "axByMjvh5VKI"
      }
    }
  ]
}
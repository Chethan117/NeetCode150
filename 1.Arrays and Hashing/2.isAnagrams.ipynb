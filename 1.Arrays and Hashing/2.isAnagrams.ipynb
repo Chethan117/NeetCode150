{
  "nbformat": 4,
  "nbformat_minor": 0,
  "metadata": {
    "colab": {
      "provenance": []
    },
    "kernelspec": {
      "name": "python3",
      "display_name": "Python 3"
    },
    "language_info": {
      "name": "python"
    }
  },
  "cells": [
    {
      "cell_type": "markdown",
      "source": [
        "Valid Anagram\n",
        "\n",
        "Given two strings s and t, return true if the two strings are anagrams of each other, otherwise return false.\n",
        "\n",
        "An anagram is a string that contains the exact same characters as another string, but the order of the characters can be different.\n",
        "\n",
        "Example 1:\n",
        "```\n",
        "Input: s = \"racecar\", t = \"carrace\"\n",
        "Output: true\n",
        "```\n",
        "\n",
        "\n",
        "\n",
        "Example 2:\n",
        "```\n",
        "Input: s = \"jar\", t = \"jam\"\n",
        "Output: false\n",
        "```\n",
        "\n",
        "Constraints: s and t consist of lowercase English letters.\n",
        "\n",
        "Recommended Time & Space Complexity:\n",
        "\n",
        "You should aim for a solution with $O(n + m)$ time and $O(1)$ space, where n is the length of the string s and m is the length of the string"
      ],
      "metadata": {
        "id": "ttymtllhgX7i"
      }
    },
    {
      "cell_type": "markdown",
      "source": [
        "### Approach 1:  Sorting"
      ],
      "metadata": {
        "id": "WF-gwVxvj2Sh"
      }
    },
    {
      "cell_type": "code",
      "source": [
        "def isAnagram1(s,t):\n",
        "  if len(s)!=len(t):\n",
        "    return False\n",
        "  return sorted(s)==sorted(t)\n",
        "\n",
        "\n",
        "my_str1='anagram'\n",
        "my_str2= \"nagaram\"\n",
        "\n",
        "s='car'\n",
        "t='rat'\n",
        "\n",
        "print(isAnagram1(my_str1,my_str2))\n",
        "\n",
        "print(isAnagram1(s,t))"
      ],
      "metadata": {
        "colab": {
          "base_uri": "https://localhost:8080/"
        },
        "id": "Q8vhMWbqgf5G",
        "outputId": "e0276805-6cd6-446e-cbb4-9e30eee82669"
      },
      "execution_count": 10,
      "outputs": [
        {
          "output_type": "stream",
          "name": "stdout",
          "text": [
            "True\n",
            "False\n"
          ]
        }
      ]
    },
    {
      "cell_type": "markdown",
      "source": [
        "Time Complexity:\\\n",
        "$O(nlogn+mlogm)$\n",
        "\n",
        "Space Complexity:\\\n",
        "$O(n+m)$\n",
        "\n",
        "\n",
        "Assuming, if two strings are same length:  then n=m, \\\n",
        "Therefore, \\\n",
        "Time Complexity:\\\n",
        "$O(nlogn)$ \\\n",
        "and\\\n",
        "Space Complexity:\\\n",
        "$O(n)$"
      ],
      "metadata": {
        "id": "i83nj3qNk0Ff"
      }
    },
    {
      "cell_type": "markdown",
      "source": [
        "### Approach 2 : Using HashTable"
      ],
      "metadata": {
        "id": "e8VK-sBintxJ"
      }
    },
    {
      "cell_type": "code",
      "source": [
        "def isAnagram2(s,t):\n",
        "  if len(s)!=len(t):\n",
        "    return False\n",
        "\n",
        "  countS={}\n",
        "  countT={}\n",
        "\n",
        "  for i in range(len(s)):\n",
        "    countS[s[i]] = 1 +  countS.get(s[i],0)\n",
        "    countT[t[i]] = 1 +  countT.get(t[i],0)\n",
        "\n",
        "  return countS ==countT\n",
        "\n",
        "\n"
      ],
      "metadata": {
        "id": "LFB-wVain2sU"
      },
      "execution_count": 13,
      "outputs": []
    },
    {
      "cell_type": "code",
      "source": [
        "my_str1='anagram'\n",
        "my_str2= \"nagaram\"\n",
        "\n",
        "s='car'\n",
        "t='rat'\n",
        "\n",
        "print(isAnagram2(my_str1,my_str2))\n",
        "\n",
        "print(isAnagram2(s,t))"
      ],
      "metadata": {
        "colab": {
          "base_uri": "https://localhost:8080/"
        },
        "id": "c8V2OSCQn7Sh",
        "outputId": "40806d49-342e-43eb-d929-8dba37896095"
      },
      "execution_count": 14,
      "outputs": [
        {
          "output_type": "stream",
          "name": "stdout",
          "text": [
            "True\n",
            "False\n"
          ]
        }
      ]
    },
    {
      "cell_type": "markdown",
      "source": [
        "Time Complexity:\\\n",
        "Length Check: $O(1)$.\n",
        "\n",
        "Building Frequency Maps:\\\n",
        "Iterating over each character in s and t takes $O(n)$ \\\n",
        "where n is the length of the strings.\n",
        "\n",
        "Updating the dictionaries is $O(1)$ per operation.\\\n",
        "Total: $O(n)$\n",
        "\n",
        "Comparing Dictionaries: \\\n",
        "O(n) in the worst case (if all characters are unique).\n",
        "\n",
        "`Overall time complexity: O(n)`\n",
        "\n",
        "\n",
        "\n",
        "#### Space Complexity:\n",
        "1.   The space used by the dictionaries countS and countT depends on the number of unique characters in the strings.\n",
        "2.   In the worst case, if all characters are unique, the space complexity is O(n).\n",
        "3. However, for lowercase English letters, the number of unique characters is limited to 26, so the space complexity is O(1).\n",
        "\n"
      ],
      "metadata": {
        "id": "27C_TpcarxTt"
      }
    },
    {
      "cell_type": "markdown",
      "source": [
        "### Approach 3: Using Counter"
      ],
      "metadata": {
        "id": "pyG8Q7Xdt1Mi"
      }
    },
    {
      "cell_type": "code",
      "source": [
        "from collections import Counter\n",
        "\n",
        "def isAnagram3(s, t):\n",
        "    if len(s) != len(t):\n",
        "        return False\n",
        "    return Counter(s) == Counter(t)"
      ],
      "metadata": {
        "id": "DARRF3-bwqmZ"
      },
      "execution_count": 21,
      "outputs": []
    },
    {
      "cell_type": "code",
      "source": [
        "my_str1='anagram'\n",
        "my_str2= \"nagaram\"\n",
        "\n",
        "s='car'\n",
        "t='rat'\n",
        "\n",
        "print(isAnagram3(my_str1,my_str2))\n",
        "\n",
        "print(isAnagram3(s,t))"
      ],
      "metadata": {
        "colab": {
          "base_uri": "https://localhost:8080/"
        },
        "id": "kfligKUjwu84",
        "outputId": "620d6ae2-411e-4980-9b6f-c63e98551621"
      },
      "execution_count": 22,
      "outputs": [
        {
          "output_type": "stream",
          "name": "stdout",
          "text": [
            "True\n",
            "False\n"
          ]
        }
      ]
    },
    {
      "cell_type": "markdown",
      "source": [
        "#### Time Complexity:\n",
        "- Building the `Counter` objects: **O(n)**\n",
        "- Comparing the `Counter` objects: **O(n)**\n",
        "- **Overall Time Complexity**: **O(n)**\n",
        "\n",
        "#### Space Complexity:\n",
        "- The `Counter` objects store frequency counts for each unique character.\n",
        "- **Space Complexity**: **O(k)**, where `k` is the number of unique characters.\n",
        "  - For lowercase English letters, `k ≤ 26`, so space complexity is **O(1)**."
      ],
      "metadata": {
        "id": "idqQUehzwwJq"
      }
    },
    {
      "cell_type": "markdown",
      "source": [
        "### Approach 4: Using HashTable (Optimal)"
      ],
      "metadata": {
        "id": "URR5SFoIyuor"
      }
    },
    {
      "cell_type": "code",
      "source": [
        "def isAnagram4(s,t):\n",
        "\n",
        "  if len(s)!=len(t):\n",
        "    return False\n",
        "  count=[0] * 26\n",
        "\n",
        "  for i in range(len(s)):\n",
        "\n",
        "    count[ord(s[i])- ord('a')] +=1\n",
        "    count[ord(t[i])- ord('a')] -=1\n",
        "\n",
        "  for val in count:\n",
        "    if val!=0:\n",
        "      return False\n",
        "\n",
        "  return True\n"
      ],
      "metadata": {
        "id": "SS322XWK2D2Y"
      },
      "execution_count": 23,
      "outputs": []
    },
    {
      "cell_type": "code",
      "source": [
        "my_str1='anagram'\n",
        "my_str2= \"nagaram\"\n",
        "\n",
        "s='car'\n",
        "t='rat'\n",
        "\n",
        "print(isAnagram4(my_str1,my_str2))\n",
        "print(isAnagram4(s,t))"
      ],
      "metadata": {
        "colab": {
          "base_uri": "https://localhost:8080/"
        },
        "id": "a1a93bgR3DOW",
        "outputId": "dbc379db-4738-4f7e-ec02-922ed429fa59"
      },
      "execution_count": 24,
      "outputs": [
        {
          "output_type": "stream",
          "name": "stdout",
          "text": [
            "True\n",
            "False\n"
          ]
        }
      ]
    },
    {
      "cell_type": "markdown",
      "source": [
        "#### Time Complexity:\n",
        "- Iterating through the strings: **O(n)**\n",
        "- Checking the count array: **O(26)** (constant time)\n",
        "- **Overall Time Complexity**: **O(n)**\n",
        "\n",
        "#### Space Complexity:\n",
        "- Uses a fixed-size array of size 26.\n",
        "- **Space Complexity**: **O(1)**"
      ],
      "metadata": {
        "id": "1KsquhQ83Hjf"
      }
    },
    {
      "cell_type": "markdown",
      "source": [
        "| Feature                  | `Counter`-Based Approach         | Fixed-Size Array Approach       |\n",
        "|--------------------------|----------------------------------|---------------------------------|\n",
        "| **Time Complexity**      | O(n)                            | O(n)                           |\n",
        "| **Space Complexity**     | O(k) (O(1) for lowercase letters)| O(1)                           |\n",
        "| **Flexibility**          | Works for any iterable           | Limited to lowercase letters   |\n",
        "| **Performance**          | Slightly slower                 | Faster                         |\n",
        "| **Use Case**             | General-purpose                 | Optimized for specific inputs  |"
      ],
      "metadata": {
        "id": "zLvq6FbM3mZI"
      }
    },
    {
      "cell_type": "code",
      "source": [],
      "metadata": {
        "id": "U3A4nstY3oFK"
      },
      "execution_count": null,
      "outputs": []
    }
  ]
}
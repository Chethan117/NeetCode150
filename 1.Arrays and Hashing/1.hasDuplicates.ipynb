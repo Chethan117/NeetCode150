{
  "nbformat": 4,
  "nbformat_minor": 0,
  "metadata": {
    "colab": {
      "provenance": []
    },
    "kernelspec": {
      "name": "python3",
      "display_name": "Python 3"
    },
    "language_info": {
      "name": "python"
    }
  },
  "cells": [
    {
      "cell_type": "markdown",
      "source": [
        "# Question\n",
        "## Contains Duplicate\n",
        "Given an integer array nums, return true if any value appears more than once in the array, otherwise return false.\n",
        "\n",
        "Example 1:\n",
        "```\n",
        "Input: nums = [1, 2, 3, 3]\n",
        "\n",
        "Output: true\n",
        "```\n",
        "\n",
        "Example 2:\n",
        "\n",
        "```\n",
        "Input: nums = [1, 2, 3, 4]\n",
        "\n",
        "Output: false\n",
        "```\n",
        "\n",
        "\n"
      ],
      "metadata": {
        "id": "PbHbelRyL342"
      }
    },
    {
      "cell_type": "markdown",
      "source": [
        "### Approach 1: Brute Force Approach"
      ],
      "metadata": {
        "id": "JKF-yEYdMREI"
      }
    },
    {
      "cell_type": "code",
      "source": [
        "from typing import List\n",
        "\n",
        "def has_duplicates(nums: List[int]) -> bool:\n",
        "  n=len(nums)\n",
        "  for i in range(n):\n",
        "\n",
        "    for j in range(i+1,n):\n",
        "      if nums[i]==nums[j]:\n",
        "        return True\n",
        "  return False"
      ],
      "metadata": {
        "id": "cEc0nBqNMipH"
      },
      "execution_count": 1,
      "outputs": []
    },
    {
      "cell_type": "code",
      "source": [
        "nums = [1, 2, 3, 3]\n",
        "has_duplicates(nums)"
      ],
      "metadata": {
        "colab": {
          "base_uri": "https://localhost:8080/"
        },
        "id": "1u0VW2jhNSPT",
        "outputId": "7abf9963-92f8-42bf-f06a-eb7d6536620e"
      },
      "execution_count": 2,
      "outputs": [
        {
          "output_type": "execute_result",
          "data": {
            "text/plain": [
              "True"
            ]
          },
          "metadata": {},
          "execution_count": 2
        }
      ]
    },
    {
      "cell_type": "code",
      "source": [
        "nums = [1, 2, 3, 4]\n",
        "has_duplicates(nums)"
      ],
      "metadata": {
        "colab": {
          "base_uri": "https://localhost:8080/"
        },
        "id": "JXUiYa0bOEbZ",
        "outputId": "f49232b7-8bee-4e83-9dc1-3cfc0d8eb15e"
      },
      "execution_count": 3,
      "outputs": [
        {
          "output_type": "execute_result",
          "data": {
            "text/plain": [
              "False"
            ]
          },
          "metadata": {},
          "execution_count": 3
        }
      ]
    },
    {
      "cell_type": "markdown",
      "source": [
        "Time complexity: $O(n^2)$\n",
        "\n",
        "Space complexity: $O(1)$"
      ],
      "metadata": {
        "id": "jRGlijmxOmb5"
      }
    },
    {
      "cell_type": "markdown",
      "source": [
        "### Approach 2: Using Sorting"
      ],
      "metadata": {
        "id": "kyqX5aKlRjNH"
      }
    },
    {
      "cell_type": "code",
      "source": [
        "def has_duplicates2(nums: List[int]) -> bool:\n",
        "\n",
        "  nums.sort()\n",
        "\n",
        "  for i in range(1,len(nums)):\n",
        "    if nums[i] == nums[i - 1]:\n",
        "      return True\n",
        "  return False"
      ],
      "metadata": {
        "id": "eaQBr7YZRtId"
      },
      "execution_count": 4,
      "outputs": []
    },
    {
      "cell_type": "code",
      "source": [
        "nums = [1, 2, 3, 3]\n",
        "has_duplicates2(nums)"
      ],
      "metadata": {
        "colab": {
          "base_uri": "https://localhost:8080/"
        },
        "id": "mvsYut5lSli3",
        "outputId": "993e412a-d69d-40d9-b5d9-d8ca67a4d647"
      },
      "execution_count": 5,
      "outputs": [
        {
          "output_type": "execute_result",
          "data": {
            "text/plain": [
              "True"
            ]
          },
          "metadata": {},
          "execution_count": 5
        }
      ]
    },
    {
      "cell_type": "code",
      "source": [
        "nums = [1, 2, 3, 4]\n",
        "has_duplicates2(nums)"
      ],
      "metadata": {
        "colab": {
          "base_uri": "https://localhost:8080/"
        },
        "id": "eHLhngEZSmGQ",
        "outputId": "5733e01f-190b-4bc9-c00e-872826d31acc"
      },
      "execution_count": 6,
      "outputs": [
        {
          "output_type": "execute_result",
          "data": {
            "text/plain": [
              "False"
            ]
          },
          "metadata": {},
          "execution_count": 6
        }
      ]
    },
    {
      "cell_type": "markdown",
      "source": [
        "Time complexity: $O(nlogn)$\n",
        "\n",
        "Space complexity: $O(1)$"
      ],
      "metadata": {
        "id": "9R3R-ERLSuy5"
      }
    },
    {
      "cell_type": "markdown",
      "source": [
        "### Approach 3: Using Set"
      ],
      "metadata": {
        "id": "G4V7s5SZON8Q"
      }
    },
    {
      "cell_type": "code",
      "source": [
        "def has_duplicates3(nums: List[int]) -> bool:\n",
        "\n",
        "  seen=set()\n",
        "\n",
        "  for num in nums:\n",
        "    if num in seen:\n",
        "      return True\n",
        "    seen.add(num)\n",
        "  return False\n"
      ],
      "metadata": {
        "id": "h8t3MXJDOboN"
      },
      "execution_count": 7,
      "outputs": []
    },
    {
      "cell_type": "code",
      "source": [
        "nums = [1, 2, 3, 3]\n",
        "has_duplicates3(nums)"
      ],
      "metadata": {
        "colab": {
          "base_uri": "https://localhost:8080/"
        },
        "id": "HL5mDfNoPiJJ",
        "outputId": "c0528dd2-8a4a-41eb-9c1d-cd7a7b26b4b4"
      },
      "execution_count": 8,
      "outputs": [
        {
          "output_type": "execute_result",
          "data": {
            "text/plain": [
              "True"
            ]
          },
          "metadata": {},
          "execution_count": 8
        }
      ]
    },
    {
      "cell_type": "code",
      "source": [
        "nums = [1, 2, 3, 4]\n",
        "has_duplicates3(nums)"
      ],
      "metadata": {
        "colab": {
          "base_uri": "https://localhost:8080/"
        },
        "id": "DaNn5bCyPjpm",
        "outputId": "0e8fa4b3-26f3-4614-f6fd-e528333f18e6"
      },
      "execution_count": 9,
      "outputs": [
        {
          "output_type": "execute_result",
          "data": {
            "text/plain": [
              "False"
            ]
          },
          "metadata": {},
          "execution_count": 9
        }
      ]
    },
    {
      "cell_type": "markdown",
      "source": [
        "Time complexity: $O(n)$\n",
        "\n",
        "Space complexity: $O(n)$\n"
      ],
      "metadata": {
        "id": "ht3k7sPxPnDT"
      }
    },
    {
      "cell_type": "markdown",
      "source": [
        "### Approach 4 : Using Length of Sets"
      ],
      "metadata": {
        "id": "kJfQclI_P13A"
      }
    },
    {
      "cell_type": "code",
      "source": [
        "def has_duplicates4(nums: List[int]) -> bool:\n",
        "  return len(set(nums)) < len(nums)\n"
      ],
      "metadata": {
        "id": "hlF80VWlP8pw"
      },
      "execution_count": 10,
      "outputs": []
    },
    {
      "cell_type": "code",
      "source": [
        "nums = [1, 2, 3, 4]\n",
        "has_duplicates4(nums)"
      ],
      "metadata": {
        "colab": {
          "base_uri": "https://localhost:8080/"
        },
        "id": "z9IDKaeHQLuS",
        "outputId": "8cc04139-8711-40a5-da60-de893c697f19"
      },
      "execution_count": 11,
      "outputs": [
        {
          "output_type": "execute_result",
          "data": {
            "text/plain": [
              "False"
            ]
          },
          "metadata": {},
          "execution_count": 11
        }
      ]
    },
    {
      "cell_type": "code",
      "source": [
        "nums = [1, 2, 3, 3]\n",
        "has_duplicates4(nums)"
      ],
      "metadata": {
        "colab": {
          "base_uri": "https://localhost:8080/"
        },
        "id": "XR6rB3KmQNlJ",
        "outputId": "143c83bc-be13-43a3-e29d-cb78b09d7ab8"
      },
      "execution_count": 12,
      "outputs": [
        {
          "output_type": "execute_result",
          "data": {
            "text/plain": [
              "True"
            ]
          },
          "metadata": {},
          "execution_count": 12
        }
      ]
    },
    {
      "cell_type": "markdown",
      "source": [
        "Time complexity: $O(n)$\n",
        "\n",
        "Space complexity: $O(n)$\n"
      ],
      "metadata": {
        "id": "EyWOy57rQQ7q"
      }
    }
  ]
}
{
  "nbformat": 4,
  "nbformat_minor": 0,
  "metadata": {
    "colab": {
      "provenance": []
    },
    "kernelspec": {
      "name": "python3",
      "display_name": "Python 3"
    },
    "language_info": {
      "name": "python"
    }
  },
  "cells": [
    {
      "cell_type": "markdown",
      "source": [
        "# Two Sum\n",
        "Given an array of integers nums and an integer target, return the indices i and j such that nums[i] + nums[j] == target and i != j.\n",
        "\n",
        "You may assume that every input has exactly one pair of indices i and j that satisfy the condition.\n",
        "\n",
        "Return the answer with the smaller index first.\n",
        "\n",
        "Example 1:\n",
        "```\n",
        "Input: nums = [3,4,5,6], target = 7\n",
        "\n",
        "Output: [0,1]\n",
        "```\n",
        "\n",
        "\n",
        "Explanation: nums[0] + nums[1] == 7, so we return [0, 1].\n",
        "\n",
        "Example 2:\n",
        "```\n",
        "Input: nums = [4,5,6], target = 10\n",
        "\n",
        "Output: [0,2]\n",
        "```\n",
        "\n",
        "Example 3:\n",
        "```\n",
        "Input: nums = [5,5], target = 10\n",
        "\n",
        "Output: [0,1]\n",
        "```\n",
        "\n",
        "\n",
        "Constraints:\n",
        "  - `2 <= nums.length <= 1000`\n",
        "  - `-10,000,000 <= nums[i] <= 10,000,000`\n",
        "  - `-10,000,000 <= target <= 10,000,000`\n"
      ],
      "metadata": {
        "id": "pxU9-Em0XLDC"
      }
    },
    {
      "cell_type": "markdown",
      "source": [
        "### Approach 1: Brute Force Approach"
      ],
      "metadata": {
        "id": "PvFmyzjQlblt"
      }
    },
    {
      "cell_type": "code",
      "source": [
        "def twoSum(nums, target):\n",
        "\n",
        "        for i in range(len(nums)):\n",
        "            for j in range(i+1,len(nums)):\n",
        "                if nums[i]+ nums[j] ==target:\n",
        "                    return [min(i,j),max(i,j)]"
      ],
      "metadata": {
        "id": "ulWWXm-hYIsQ"
      },
      "execution_count": null,
      "outputs": []
    },
    {
      "cell_type": "code",
      "source": [
        "nums = [4,5,3,6]\n",
        "twoSum(nums,7)"
      ],
      "metadata": {
        "id": "zn3k9ELNZmFC",
        "colab": {
          "base_uri": "https://localhost:8080/"
        },
        "outputId": "bce2b8e4-9667-48c8-cee3-2d344a7ae516"
      },
      "execution_count": null,
      "outputs": [
        {
          "output_type": "execute_result",
          "data": {
            "text/plain": [
              "[0, 2]"
            ]
          },
          "metadata": {},
          "execution_count": 11
        }
      ]
    },
    {
      "cell_type": "markdown",
      "source": [
        "### Approach 2 : Using Hashing - Two Pass"
      ],
      "metadata": {
        "id": "IWndpEjdrAmo"
      }
    },
    {
      "cell_type": "code",
      "source": [
        "def twoSum2(nums, target):\n",
        "\n",
        "  for i, n in enumerate(nums):\n",
        "    indices[n]=i\n",
        "\n",
        "  for i, n in enumerate(nums):\n",
        "    diff= target-n\n",
        "    if diff in indices and indices[diff]!=i:\n",
        "      return [i,indices[diff]]\n",
        "\n"
      ],
      "metadata": {
        "id": "lHcEdkQerGRi"
      },
      "execution_count": 28,
      "outputs": []
    },
    {
      "cell_type": "code",
      "source": [
        "nums = [4,5,3,6]\n",
        "twoSum2(nums,10)\n"
      ],
      "metadata": {
        "colab": {
          "base_uri": "https://localhost:8080/"
        },
        "id": "26hFKrhQrXSx",
        "outputId": "54124a36-9e8b-42b0-c8ed-5b906fae47e4"
      },
      "execution_count": 30,
      "outputs": [
        {
          "output_type": "execute_result",
          "data": {
            "text/plain": [
              "[0, 3]"
            ]
          },
          "metadata": {},
          "execution_count": 30
        }
      ]
    },
    {
      "cell_type": "markdown",
      "source": [
        "### Time Complexity\n",
        "- **O(n)**: The function iterates through the list `nums` twice:\n",
        "  - First pass: O(n) to populate the dictionary.\n",
        "  - Second pass: O(n) to find the complement.\n",
        "  - Overall: O(n).\n",
        "\n",
        "### Space Complexity\n",
        "- **O(n)**: The dictionary `indices` stores up to `n` key-value pairs in the worst case."
      ],
      "metadata": {
        "id": "bmUoWSy1sm-0"
      }
    },
    {
      "cell_type": "markdown",
      "source": [
        "### Approach 3: Using Hashing - One Pass"
      ],
      "metadata": {
        "id": "eXzxNSbtZpBH"
      }
    },
    {
      "cell_type": "code",
      "source": [
        "def twoSum3(nums, target):\n",
        "  num_map={}\n",
        "\n",
        "  for i , n in enumerate(nums):\n",
        "    diff= target - n\n",
        "\n",
        "    if diff in num_map:\n",
        "      return [num_map[diff],i]\n",
        "    num_map[n] = i\n"
      ],
      "metadata": {
        "id": "bK4YKSRVZyfM"
      },
      "execution_count": 23,
      "outputs": []
    },
    {
      "cell_type": "code",
      "source": [
        "nums = [4,5,3,6]\n",
        "twoSum3(nums,7)"
      ],
      "metadata": {
        "colab": {
          "base_uri": "https://localhost:8080/"
        },
        "id": "mnENoS-pmmg8",
        "outputId": "869c5768-e800-4959-9512-b56d1ee03a9b"
      },
      "execution_count": 24,
      "outputs": [
        {
          "output_type": "execute_result",
          "data": {
            "text/plain": [
              "[0, 2]"
            ]
          },
          "metadata": {},
          "execution_count": 24
        }
      ]
    },
    {
      "cell_type": "markdown",
      "source": [
        "##### Step-by-Step Explanation\n",
        "\n",
        "1. **Initialization**:\n",
        "   - `num_map = {}`: Empty dictionary to store numbers and their indices.\n",
        "\n",
        "2. **Loop through the list**:\n",
        "   - `for i, n in enumerate(nums)`: Iterate through `nums` with index `i` and value `n`.\n",
        "\n",
        "3. **Calculate the difference**:\n",
        "   - `diff = target - n`: Compute the number needed to reach the target.\n",
        "\n",
        "4. **Check if the difference is in the dictionary**:\n",
        "   - `if diff in num_map`: Check if `diff` exists in `num_map`.\n",
        "   - If yes, a pair is found.\n",
        "\n",
        "5. **Return the indices**:\n",
        "   - `return [num_map[diff], i]`: Return the indices of the two numbers.\n",
        "\n",
        "6. **Store the current number and its index**:\n",
        "   - `num_map[n] = i`: Add the current number and its index to `num_map`."
      ],
      "metadata": {
        "id": "cbJak9Vcstnv"
      }
    },
    {
      "cell_type": "markdown",
      "source": [
        "### Time Complexity\n",
        "- **O(n)**: Linear time, as the function iterates through the list once.\n",
        "\n",
        "### Space Complexity\n",
        "- **O(n)**: Linear space, as the dictionary may store all `n` elements in the worst case."
      ],
      "metadata": {
        "id": "AK6NX_HsnlC9"
      }
    }
  ]
}